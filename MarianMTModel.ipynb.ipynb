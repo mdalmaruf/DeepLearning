{
 "cells": [
  {
   "cell_type": "code",
   "execution_count": 1,
   "metadata": {
    "id": "WuWZNU-qa_Nd"
   },
   "outputs": [],
   "source": [
    "# Step 1: Install dependencies\n",
    "!pip install transformers sentencepiece --quiet"
   ]
  },
  {
   "cell_type": "code",
   "execution_count": 2,
   "metadata": {
    "colab": {
     "base_uri": "https://localhost:8080/",
     "height": 598,
     "referenced_widgets": [
      "09c6385d8c804c3183e2edba646907b4",
      "5915abc772074ddbb794377447b8189e",
      "d9eb766d858a4da9b20f12c8961f070f",
      "28835cd46bc34064bbd5ac48f4ef9ee6",
      "bf6f4c96406e4527a9c6ca983b27764d",
      "94983f2eb26543c39c18daea02d5c873",
      "07c8bcea5b09498b8c9b68f15d522fd3",
      "4979eefd27964fb6b9b45b6e15a8939d",
      "bb76423195eb41fda63a5959315be244",
      "e18ef87eb03546189d4b3ddbe9ed01ae",
      "7f83bfbfb7c24e0ea7b151e3170334cb",
      "b843c53706cc40f6933f2adca4c7444b",
      "8a9063f67ff846158eb74002f44993bc",
      "cbf38f11686641e5898f7bad57d92116",
      "e7e1b50390dc40659660064b6d5fca43",
      "0c4e99145132418bbaa0928e77e6042b",
      "b096d343d3974ea3a35532925c86d9ce",
      "b74de2d241734878a8825f92c54141d1",
      "82e81869e8b44319bcd05c1462eed920",
      "c751a0e1a81f4144abf4bc377faf4bfa",
      "db4e4ce4ebb741199be715cc8592045c",
      "a87a44b9df224c00b5a7ecadd3615b56",
      "e60c8de9f40b4a0ca58ff854363cb985",
      "f892a7b9d99848ad970ba1f3be92a86d",
      "174b4b4478df49b185014df687d8908a",
      "ffd70a6fab4b42e7824385f28c2933db",
      "9e35750e60cf46d5b49df5c144289aba",
      "d65c9ac458394de88b66ef1665615c41",
      "9ed85c4478674125b19d4609dd324555",
      "a5676d56808d41119f45343e2b500b4c",
      "4b7815ee25e74b14aee07d22dbc6c83e",
      "238cc3354bfa47ccbd58d1b696cb03ff",
      "6232b70f725a430aa5eaf80ccb520544",
      "93bf67844a334bcc8fd8c49b7bc3af96",
      "99292f3a8f1540bb8afddea5953520e0",
      "950051c2fe414678ae22ffdcf2cfc1e2",
      "0dc19e292cb3455482157a631b9407ee",
      "b4d8bb3cc7694256b10ee776a26bc54d",
      "96927d51d9c645408e3a70b99cf1849e",
      "74c41c9d80034cf5adf54981c740cad3",
      "9f77dfe2d77647e79cbaee5dca0a1fad",
      "18e53826677a4587995a09736765f015",
      "5bb8be40419441298de7ee178db11b2e",
      "a165c9f8ea96465380154081535098cf",
      "a804c8daa68f4c6da9a0ded5650365f1",
      "2fb773d2ada142639989ca1d04faa487",
      "1647e6bcd4114c33baac671d756b2692",
      "8ee0840af7ad4b46aa82bb2a48bb9b4c",
      "85578d8ff52a44e7bb9b93000de473f9",
      "1dd33036eca04e33b2a5c912dfcacd1b",
      "d401551217c649cbaade1d0508814627",
      "1db533e2970841bcb997aa11b45c3793",
      "b93ce52d6887400495dae3398b042c48",
      "d8eba02343e744be8fd4744f61ba0960",
      "f3ba80360cd8462dae2a860996824cff",
      "0202b144c7034e37b6a3d30b63937caa",
      "b917023dbf76491491d755d6cae692a6",
      "1aa99ead8d1a40c592219aa1e3958809",
      "896abde1ae7242758d12e08da2543e04",
      "0ef4e4d637d54ec89108bf69f4d645c1",
      "7777d7fc74d34b0791bdd5d1268f28f7",
      "5aa0b1e1bd244a55b2af7ce13caefcb5",
      "3a6b212041be490cbccd43c799f07f60",
      "37365eb03ea94b9489bcd360ab3a11ee",
      "f1c4c0d16cfd40c08bed43fd956cc4d6",
      "6921906c32f4461aacebab371e60fe03",
      "e91ab5cbfbf2459ba28551856e7f8599",
      "ef2ced69a8cd4155b15e86bbdb8d3d60",
      "af5ae965fbdc4330bb03a0df9cca9066",
      "60178a4d11e645838f7d073a5307e078",
      "9ccab6c08cfd4c5f95633d27b3b35fb3",
      "529d263495ef4fb28ee1b92bae2e0940",
      "1afabbb6b1eb4478b7b5b6e59de4b1d1",
      "f219682bc74c41bab53605291d7fae2f",
      "51f3bb2fa31d433b8f3027c757d97244",
      "928b68d2e7ba49b19ae232eb5eba8974",
      "0bb980f53ea842aea8d24063cc64caae",
      "5fd0d806ed1e4c4ebad68329f80e7101",
      "9a06dbc20f274ad4bde16bf1b038245a",
      "88302744ba5c42afbe8ad496b89ab0f6",
      "7dbc9e3982df4f3cb92982b6269a438e",
      "b3fdb90f50f84771844fb60b575a707d",
      "39b2fece2c764a70a3744ceec92c96d3",
      "3c57d3ca65a94fadb1277b1f57719955",
      "d62c05c73a5b4aa38deca5662689fa62",
      "6858e7ce8afc46509a108c526bde2332",
      "e43fc24a46394928bd39538b23a83433",
      "e05151fe55c74eddb12c7ffe5be2b403"
     ]
    },
    "id": "vEye-Iyma6SA",
    "outputId": "acd97416-4e4e-41d4-8437-614c61301aa2"
   },
   "outputs": [
    {
     "name": "stderr",
     "output_type": "stream",
     "text": [
      "/usr/local/lib/python3.11/dist-packages/huggingface_hub/utils/_auth.py:94: UserWarning: \n",
      "The secret `HF_TOKEN` does not exist in your Colab secrets.\n",
      "To authenticate with the Hugging Face Hub, create a token in your settings tab (https://huggingface.co/settings/tokens), set it as secret in your Google Colab and restart your session.\n",
      "You will be able to reuse this secret in all of your notebooks.\n",
      "Please note that authentication is recommended but still optional to access public models or datasets.\n",
      "  warnings.warn(\n"
     ]
    },
    {
     "data": {
      "application/vnd.jupyter.widget-view+json": {
       "model_id": "09c6385d8c804c3183e2edba646907b4",
       "version_major": 2,
       "version_minor": 0
      },
      "text/plain": [
       "config.json: 0.00B [00:00, ?B/s]"
      ]
     },
     "metadata": {},
     "output_type": "display_data"
    },
    {
     "data": {
      "application/vnd.jupyter.widget-view+json": {
       "model_id": "b843c53706cc40f6933f2adca4c7444b",
       "version_major": 2,
       "version_minor": 0
      },
      "text/plain": [
       "pytorch_model.bin:   0%|          | 0.00/301M [00:00<?, ?B/s]"
      ]
     },
     "metadata": {},
     "output_type": "display_data"
    },
    {
     "data": {
      "application/vnd.jupyter.widget-view+json": {
       "model_id": "e60c8de9f40b4a0ca58ff854363cb985",
       "version_major": 2,
       "version_minor": 0
      },
      "text/plain": [
       "generation_config.json:   0%|          | 0.00/293 [00:00<?, ?B/s]"
      ]
     },
     "metadata": {},
     "output_type": "display_data"
    },
    {
     "data": {
      "application/vnd.jupyter.widget-view+json": {
       "model_id": "93bf67844a334bcc8fd8c49b7bc3af96",
       "version_major": 2,
       "version_minor": 0
      },
      "text/plain": [
       "tokenizer_config.json:   0%|          | 0.00/42.0 [00:00<?, ?B/s]"
      ]
     },
     "metadata": {},
     "output_type": "display_data"
    },
    {
     "data": {
      "application/vnd.jupyter.widget-view+json": {
       "model_id": "a804c8daa68f4c6da9a0ded5650365f1",
       "version_major": 2,
       "version_minor": 0
      },
      "text/plain": [
       "model.safetensors:   0%|          | 0.00/301M [00:00<?, ?B/s]"
      ]
     },
     "metadata": {},
     "output_type": "display_data"
    },
    {
     "data": {
      "application/vnd.jupyter.widget-view+json": {
       "model_id": "0202b144c7034e37b6a3d30b63937caa",
       "version_major": 2,
       "version_minor": 0
      },
      "text/plain": [
       "source.spm:   0%|          | 0.00/778k [00:00<?, ?B/s]"
      ]
     },
     "metadata": {},
     "output_type": "display_data"
    },
    {
     "data": {
      "application/vnd.jupyter.widget-view+json": {
       "model_id": "e91ab5cbfbf2459ba28551856e7f8599",
       "version_major": 2,
       "version_minor": 0
      },
      "text/plain": [
       "target.spm:   0%|          | 0.00/802k [00:00<?, ?B/s]"
      ]
     },
     "metadata": {},
     "output_type": "display_data"
    },
    {
     "data": {
      "application/vnd.jupyter.widget-view+json": {
       "model_id": "5fd0d806ed1e4c4ebad68329f80e7101",
       "version_major": 2,
       "version_minor": 0
      },
      "text/plain": [
       "vocab.json: 0.00B [00:00, ?B/s]"
      ]
     },
     "metadata": {},
     "output_type": "display_data"
    },
    {
     "name": "stderr",
     "output_type": "stream",
     "text": [
      "/usr/local/lib/python3.11/dist-packages/transformers/models/marian/tokenization_marian.py:175: UserWarning: Recommended: pip install sacremoses.\n",
      "  warnings.warn(\"Recommended: pip install sacremoses.\")\n"
     ]
    },
    {
     "name": "stdout",
     "output_type": "stream",
     "text": [
      "EN: I love artificial intelligence.\n",
      "FR: J'aime l'intelligence artificielle.\n",
      "\n",
      "EN: How are you today?\n",
      "FR: Comment allez-vous aujourd'hui ?\n",
      "\n",
      "EN: We are going to study Transformers in this class.\n",
      "FR: Nous allons étudier les Transformateurs dans cette classe.\n",
      "\n"
     ]
    }
   ],
   "source": [
    "# Simple Translation Example using Pretrained Model (MarianMT) in PyTorch\n",
    "# ---------------------------------------------------------------\n",
    "\n",
    "# Step 2: Import necessary libraries\n",
    "from transformers import MarianMTModel, MarianTokenizer\n",
    "\n",
    "# Step 3: Load Pretrained Translation Model\n",
    "model_name = 'Helsinki-NLP/opus-mt-en-fr'  # English to French\n",
    "model = MarianMTModel.from_pretrained(model_name)\n",
    "tokenizer = MarianTokenizer.from_pretrained(model_name)\n",
    "\n",
    "# Step 4: Define Translation Function\n",
    "def translate(texts):\n",
    "    # Tokenize the input\n",
    "    inputs = tokenizer(texts, return_tensors=\"pt\", padding=True)\n",
    "    # Generate translation output\n",
    "    translated = model.generate(**inputs)\n",
    "    # Decode the result\n",
    "    return [tokenizer.decode(t, skip_special_tokens=True) for t in translated]\n",
    "\n",
    "# Step 5: Provide English Sentences\n",
    "english_sentences = [\n",
    "    \"I love artificial intelligence.\",\n",
    "    \"How are you today?\",\n",
    "    \"We are going to study Transformers in this class.\"\n",
    "]\n",
    "\n",
    "# Step 6: Translate to French\n",
    "french_translations = translate(english_sentences)\n",
    "\n",
    "# Step 7: Show Results\n",
    "for en, fr in zip(english_sentences, french_translations):\n",
    "    print(f\"EN: {en}\\nFR: {fr}\\n\")\n"
   ]
  }
 ],
 "metadata": {
  "colab": {
   "provenance": []
  },
  "kernelspec": {
   "display_name": "Python 3",
   "name": "python3"
  },
  "language_info": {
   "name": "python"
  }
 },
 "nbformat": 4,
 "nbformat_minor": 0
}
